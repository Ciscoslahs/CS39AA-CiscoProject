{
 "cells": [
  {
   "cell_type": "markdown",
   "id": "0aba900a",
   "metadata": {
    "papermill": {
     "duration": 0.004244,
     "end_time": "2023-12-04T17:28:42.573599",
     "exception": false,
     "start_time": "2023-12-04T17:28:42.569355",
     "status": "completed"
    },
    "tags": []
   },
   "source": [
    "# Project Part 3\n",
    "\n",
    "[![Kaggle](https://kaggle.com/static/images/open-in-kaggle.svg)](https://www.kaggle.com/ciscoyslas/deeplearningmodelyslas/edit)\n",
    "\n",
    "\n",
    "_This notebook will build a deep learning model to predict ABV (Alcohol by Volume) from a dataset of craft beers._"
   ]
  },
  {
   "cell_type": "markdown",
   "id": "13968e10",
   "metadata": {
    "papermill": {
     "duration": 0.003566,
     "end_time": "2023-12-04T17:28:42.581128",
     "exception": false,
     "start_time": "2023-12-04T17:28:42.577562",
     "status": "completed"
    },
    "tags": []
   },
   "source": [
    "## 1. Introduction/Background\n",
    "\n",
    "_Adding imports to help with the project, KeyedVectors and Word2Vec are pre-trained word embeddings for my project._"
   ]
  },
  {
   "cell_type": "code",
   "execution_count": 1,
   "id": "c204a8cc",
   "metadata": {
    "execution": {
     "iopub.execute_input": "2023-12-04T17:28:42.589760Z",
     "iopub.status.busy": "2023-12-04T17:28:42.589459Z",
     "iopub.status.idle": "2023-12-04T17:29:01.333304Z",
     "shell.execute_reply": "2023-12-04T17:29:01.332438Z"
    },
    "papermill": {
     "duration": 18.750856,
     "end_time": "2023-12-04T17:29:01.335690",
     "exception": false,
     "start_time": "2023-12-04T17:28:42.584834",
     "status": "completed"
    },
    "tags": []
   },
   "outputs": [
    {
     "name": "stderr",
     "output_type": "stream",
     "text": [
      "/opt/conda/lib/python3.10/site-packages/scipy/__init__.py:146: UserWarning: A NumPy version >=1.16.5 and <1.23.0 is required for this version of SciPy (detected version 1.24.3\n",
      "  warnings.warn(f\"A NumPy version >={np_minversion} and <{np_maxversion}\"\n"
     ]
    }
   ],
   "source": [
    "import pandas as pd\n",
    "import numpy as np\n",
    "import matplotlib.pyplot as plt\n",
    "from gensim.models import Word2Vec\n",
    "from gensim.models import KeyedVectors\n",
    "from tensorflow.keras.models import Sequential\n",
    "from tensorflow.keras.models import Model\n",
    "from tensorflow.keras.layers import Dense, Input, Embedding, Flatten, Concatenate\n",
    "from tensorflow.keras.preprocessing.sequence import pad_sequences\n",
    "from sklearn.model_selection import train_test_split\n",
    "from sklearn.preprocessing import MinMaxScaler"
   ]
  },
  {
   "cell_type": "markdown",
   "id": "79b19821",
   "metadata": {
    "papermill": {
     "duration": 0.003702,
     "end_time": "2023-12-04T17:29:01.343696",
     "exception": false,
     "start_time": "2023-12-04T17:29:01.339994",
     "status": "completed"
    },
    "tags": []
   },
   "source": [
    "## 2. Exploratory Data Analysis\n",
    "\n",
    "_Dropping null values within the 'ibu'(International Bitterness Unit) column of my dataset as not every beer has an IBU value attributed to it by brewers.  Null values will mess with my regression and not give me accurate training data._"
   ]
  },
  {
   "cell_type": "code",
   "execution_count": 2,
   "id": "cb452584",
   "metadata": {
    "execution": {
     "iopub.execute_input": "2023-12-04T17:29:01.352634Z",
     "iopub.status.busy": "2023-12-04T17:29:01.352096Z",
     "iopub.status.idle": "2023-12-04T17:29:01.393262Z",
     "shell.execute_reply": "2023-12-04T17:29:01.392469Z"
    },
    "papermill": {
     "duration": 0.047775,
     "end_time": "2023-12-04T17:29:01.395206",
     "exception": false,
     "start_time": "2023-12-04T17:29:01.347431",
     "status": "completed"
    },
    "tags": []
   },
   "outputs": [],
   "source": [
    "beers_df = pd.read_csv('/kaggle/input/craft-cans/beers.csv')\n",
    "test_df = pd.read_csv('/kaggle/input/craft-cans/beers.csv')\n",
    "beers_df = beers_df.dropna(subset=['ibu'])\n",
    "test_df = test_df.dropna(subset=['ibu'])\n",
    "#print(beers_df.isnull().sum()) #Checking if null values got dropped from the ibu column"
   ]
  },
  {
   "cell_type": "markdown",
   "id": "54900183",
   "metadata": {
    "papermill": {
     "duration": 0.003653,
     "end_time": "2023-12-04T17:29:01.402807",
     "exception": false,
     "start_time": "2023-12-04T17:29:01.399154",
     "status": "completed"
    },
    "tags": []
   },
   "source": [
    "## 3. Building the Model\n",
    "\n",
    "_Next, we are loading our pre-trained embeddings and tokenizing/normalizing our features. 2 tokenizations for the text features and one normalization for our numerical features._"
   ]
  },
  {
   "cell_type": "code",
   "execution_count": 3,
   "id": "2bfc3a78",
   "metadata": {
    "execution": {
     "iopub.execute_input": "2023-12-04T17:29:01.411795Z",
     "iopub.status.busy": "2023-12-04T17:29:01.411252Z",
     "iopub.status.idle": "2023-12-04T17:30:07.562833Z",
     "shell.execute_reply": "2023-12-04T17:30:07.562090Z"
    },
    "papermill": {
     "duration": 66.15846,
     "end_time": "2023-12-04T17:30:07.565147",
     "exception": false,
     "start_time": "2023-12-04T17:29:01.406687",
     "status": "completed"
    },
    "tags": []
   },
   "outputs": [],
   "source": [
    "# Loading pre-trained Word2Vec embeddings\n",
    "word2vec_path = '/kaggle/input/word-embeddings/GoogleNews-vectors-negative300.bin'\n",
    "word2vec_model = KeyedVectors.load_word2vec_format(word2vec_path, binary=True)\n",
    "\n",
    "# Tokenize and pad sequences for the 'style' column\n",
    "max_sequence_length_style = 50\n",
    "text_data_style = pad_sequences(beers_df['style'].apply(lambda x: [word2vec_model.key_to_index[word] for word in str(x).split() if word in word2vec_model.key_to_index]).tolist(), maxlen=max_sequence_length_style)\n",
    "\n",
    "# Tokenize and pad sequences for the 'name' column\n",
    "max_sequence_length_name = 20 \n",
    "text_data_name = pad_sequences(beers_df['name'].apply(lambda x: [word2vec_model.key_to_index[word] for word in str(x).split() if word in word2vec_model.key_to_index]).tolist(), maxlen=max_sequence_length_name)\n",
    "\n",
    "# Normalize numerical features\n",
    "numerical_data = MinMaxScaler().fit_transform(beers_df[['ibu', 'ounces']].values)"
   ]
  },
  {
   "cell_type": "markdown",
   "id": "bfc51e12",
   "metadata": {
    "papermill": {
     "duration": 0.003601,
     "end_time": "2023-12-04T17:30:07.573089",
     "exception": false,
     "start_time": "2023-12-04T17:30:07.569488",
     "status": "completed"
    },
    "tags": []
   },
   "source": [
    "_The next two cells define and run the model.  The inputs (text and numerical) are combined to make the two different data types work nicely together._"
   ]
  },
  {
   "cell_type": "code",
   "execution_count": 4,
   "id": "2beec375",
   "metadata": {
    "execution": {
     "iopub.execute_input": "2023-12-04T17:30:07.581755Z",
     "iopub.status.busy": "2023-12-04T17:30:07.581466Z",
     "iopub.status.idle": "2023-12-04T17:30:10.429288Z",
     "shell.execute_reply": "2023-12-04T17:30:10.428319Z"
    },
    "papermill": {
     "duration": 2.854877,
     "end_time": "2023-12-04T17:30:10.431692",
     "exception": false,
     "start_time": "2023-12-04T17:30:07.576815",
     "status": "completed"
    },
    "tags": []
   },
   "outputs": [],
   "source": [
    "# Concatenate text and numerical features\n",
    "X_text = np.concatenate([text_data_style, text_data_name], axis=1)\n",
    "X_num = numerical_data\n",
    "y = beers_df['abv'].values\n",
    "\n",
    "#Define input layers\n",
    "input_text = Input(shape=(max_sequence_length_style + max_sequence_length_name,))\n",
    "input_num = Input(shape=(2,)) \n",
    "\n",
    "# Word embedding layer for text data\n",
    "embedding_layer = Embedding(input_dim=len(word2vec_model.key_to_index), output_dim=200, input_length=max_sequence_length_style + max_sequence_length_name)(input_text)\n",
    "flatten_layer = Flatten()(embedding_layer)\n",
    "\n",
    "# Concatenate the flattened text data and numerical data\n",
    "concatenated_layer = Concatenate()([flatten_layer, input_num])\n",
    "\n",
    "# Dense layers for the combined data\n",
    "dense1 = Dense(128, activation='relu')(concatenated_layer)\n",
    "output_layer = Dense(1)(dense1)"
   ]
  },
  {
   "cell_type": "code",
   "execution_count": 5,
   "id": "401c1c9b",
   "metadata": {
    "execution": {
     "iopub.execute_input": "2023-12-04T17:30:10.441095Z",
     "iopub.status.busy": "2023-12-04T17:30:10.440788Z",
     "iopub.status.idle": "2023-12-04T17:30:56.048002Z",
     "shell.execute_reply": "2023-12-04T17:30:56.046883Z"
    },
    "papermill": {
     "duration": 45.614592,
     "end_time": "2023-12-04T17:30:56.050378",
     "exception": false,
     "start_time": "2023-12-04T17:30:10.435786",
     "status": "completed"
    },
    "tags": []
   },
   "outputs": [
    {
     "name": "stdout",
     "output_type": "stream",
     "text": [
      "Epoch 1/10\n",
      "57/57 [==============================] - 12s 135ms/step - loss: 0.0478 - val_loss: 1.0649e-04\n",
      "Epoch 2/10\n",
      "57/57 [==============================] - 4s 72ms/step - loss: 1.0849e-04 - val_loss: 8.7757e-05\n",
      "Epoch 3/10\n",
      "57/57 [==============================] - 5s 87ms/step - loss: 5.0213e-05 - val_loss: 7.9531e-05\n",
      "Epoch 4/10\n",
      "57/57 [==============================] - 4s 66ms/step - loss: 4.2733e-05 - val_loss: 8.0984e-05\n",
      "Epoch 5/10\n",
      "57/57 [==============================] - 4s 63ms/step - loss: 3.4479e-05 - val_loss: 1.0374e-04\n",
      "Epoch 6/10\n",
      "57/57 [==============================] - 4s 63ms/step - loss: 3.8699e-05 - val_loss: 7.6003e-05\n",
      "Epoch 7/10\n",
      "57/57 [==============================] - 3s 59ms/step - loss: 4.7793e-05 - val_loss: 1.7585e-04\n",
      "Epoch 8/10\n",
      "57/57 [==============================] - 3s 59ms/step - loss: 5.6277e-05 - val_loss: 8.0022e-05\n",
      "Epoch 9/10\n",
      "57/57 [==============================] - 4s 66ms/step - loss: 3.9932e-05 - val_loss: 7.0454e-05\n",
      "Epoch 10/10\n",
      "57/57 [==============================] - 4s 62ms/step - loss: 2.2187e-05 - val_loss: 1.2142e-04\n"
     ]
    }
   ],
   "source": [
    "# Split the data into training and validation sets\n",
    "X_train_text, X_val_text, X_train_num, X_val_num, y_train, y_val = train_test_split(X_text, X_num, y, test_size=0.2, random_state=42)\n",
    "\n",
    "# Define the model\n",
    "model = Model(inputs=[input_text, input_num], outputs=output_layer)\n",
    "\n",
    "# Compile the model\n",
    "model.compile(optimizer='adam', loss='mean_squared_error')\n",
    "\n",
    "# Training the model and saving training data for a visual representation\n",
    "training_results = model.fit([X_train_text, X_train_num], y_train, epochs=10, batch_size = 20, validation_data=([X_val_text, X_val_num], y_val))"
   ]
  },
  {
   "cell_type": "markdown",
   "id": "02961a4a",
   "metadata": {
    "papermill": {
     "duration": 0.048442,
     "end_time": "2023-12-04T17:30:56.150729",
     "exception": false,
     "start_time": "2023-12-04T17:30:56.102287",
     "status": "completed"
    },
    "tags": []
   },
   "source": [
    "_Evaluation of the model._"
   ]
  },
  {
   "cell_type": "code",
   "execution_count": 6,
   "id": "0e21a292",
   "metadata": {
    "execution": {
     "iopub.execute_input": "2023-12-04T17:30:56.251162Z",
     "iopub.status.busy": "2023-12-04T17:30:56.250569Z",
     "iopub.status.idle": "2023-12-04T17:30:56.430540Z",
     "shell.execute_reply": "2023-12-04T17:30:56.429646Z"
    },
    "papermill": {
     "duration": 0.232631,
     "end_time": "2023-12-04T17:30:56.432493",
     "exception": false,
     "start_time": "2023-12-04T17:30:56.199862",
     "status": "completed"
    },
    "tags": []
   },
   "outputs": [
    {
     "name": "stdout",
     "output_type": "stream",
     "text": [
      "44/44 [==============================] - 0s 2ms/step - loss: 7.0464e-05\n"
     ]
    },
    {
     "data": {
      "text/plain": [
       "7.046389509923756e-05"
      ]
     },
     "execution_count": 6,
     "metadata": {},
     "output_type": "execute_result"
    }
   ],
   "source": [
    "# Evaluate the model on a test set\n",
    "X_test_text_style = pad_sequences(test_df['style'].apply(lambda x: [word2vec_model.key_to_index[word] for word in str(x).split() if word in word2vec_model.key_to_index]).tolist(), maxlen=max_sequence_length_style)\n",
    "X_test_text_name = pad_sequences(test_df['name'].apply(lambda x: [word2vec_model.key_to_index[word] for word in str(x).split() if word in word2vec_model.key_to_index]).tolist(), maxlen=max_sequence_length_name)\n",
    "X_test_num = MinMaxScaler().fit_transform(test_df[['ibu', 'ounces']].values)\n",
    "model.evaluate([np.concatenate([X_test_text_style, X_test_text_name], axis=1), X_test_num], test_df['abv'].values)\n"
   ]
  },
  {
   "cell_type": "code",
   "execution_count": 7,
   "id": "4dcc8a36",
   "metadata": {
    "execution": {
     "iopub.execute_input": "2023-12-04T17:30:56.532983Z",
     "iopub.status.busy": "2023-12-04T17:30:56.532653Z",
     "iopub.status.idle": "2023-12-04T17:30:56.810795Z",
     "shell.execute_reply": "2023-12-04T17:30:56.809865Z"
    },
    "papermill": {
     "duration": 0.330503,
     "end_time": "2023-12-04T17:30:56.812928",
     "exception": false,
     "start_time": "2023-12-04T17:30:56.482425",
     "status": "completed"
    },
    "tags": []
   },
   "outputs": [
    {
     "data": {
      "image/png": "[encoded data removed]",
      "text/plain": [
       "<Figure size 640x480 with 1 Axes>"
      ]
     },
     "metadata": {},
     "output_type": "display_data"
    }
   ],
   "source": [
    "plt.plot(training_results.history['loss'], label='Training Loss')\n",
    "plt.plot(training_results.history['val_loss'], label='Validation Loss')\n",
    "plt.xlabel('Epoch')\n",
    "plt.ylabel('Loss')\n",
    "plt.legend()\n",
    "plt.show()"
   ]
  }
 ],
 "metadata": {
  "kaggle": {
   "accelerator": "gpu",
   "dataSources": [
    {
     "datasetId": 673,
     "sourceId": 1282,
     "sourceType": "datasetVersion"
    },
    {
     "datasetId": 4103004,
     "sourceId": 7114815,
     "sourceType": "datasetVersion"
    }
   ],
   "dockerImageVersionId": 30587,
   "isGpuEnabled": true,
   "isInternetEnabled": true,
   "language": "python",
   "sourceType": "notebook"
  },
  "kernelspec": {
   "display_name": "Python 3",
   "language": "python",
   "name": "python3"
  },
  "language_info": {
   "codemirror_mode": {
    "name": "ipython",
    "version": 3
   },
   "file_extension": ".py",
   "mimetype": "text/x-python",
   "name": "python",
   "nbconvert_exporter": "python",
   "pygments_lexer": "ipython3",
   "version": "3.10.12"
  },
  "papermill": {
   "default_parameters": {},
   "duration": 140.439712,
   "end_time": "2023-12-04T17:30:59.840478",
   "environment_variables": {},
   "exception": null,
   "input_path": "__notebook__.ipynb",
   "output_path": "__notebook__.ipynb",
   "parameters": {},
   "start_time": "2023-12-04T17:28:39.400766",
   "version": "2.4.0"
  },
  "vscode": {
   "interpreter": {
    "hash": "bb3398f4b21c7b026dd5874af3f954bf25f1e8ff81e25d82a94abcbbaacf760b"
   }
  }
 },
 "nbformat": 4,
 "nbformat_minor": 5
}
