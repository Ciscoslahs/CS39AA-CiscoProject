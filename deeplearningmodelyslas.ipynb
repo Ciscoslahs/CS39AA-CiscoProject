{
 "cells": [
  {
   "cell_type": "markdown",
   "id": "3d9e99cf",
   "metadata": {
    "papermill": {
     "duration": 0.0038,
     "end_time": "2023-12-03T21:23:57.575484",
     "exception": false,
     "start_time": "2023-12-03T21:23:57.571684",
     "status": "completed"
    },
    "tags": []
   },
   "source": [
    "# Project Part 3\n",
    "\n",
    "[![Kaggle](https://kaggle.com/static/images/open-in-kaggle.svg)](https://www.kaggle.com/ciscoyslas/deeplearningmodelyslas/edit)\n",
    "\n",
    "\n",
    "_This notebook will build a deep learning model to predict ABV (Alcohol by Volume) from a dataset of craft beers._"
   ]
  },
  {
   "cell_type": "markdown",
   "id": "69597b30",
   "metadata": {
    "papermill": {
     "duration": 0.002998,
     "end_time": "2023-12-03T21:23:57.581787",
     "exception": false,
     "start_time": "2023-12-03T21:23:57.578789",
     "status": "completed"
    },
    "tags": []
   },
   "source": [
    "## 1. Introduction/Background\n",
    "\n"
   ]
  },
  {
   "cell_type": "markdown",
   "id": "09605498",
   "metadata": {
    "papermill": {
     "duration": 0.002845,
     "end_time": "2023-12-03T21:23:57.587612",
     "exception": false,
     "start_time": "2023-12-03T21:23:57.584767",
     "status": "completed"
    },
    "tags": []
   },
   "source": [
    "## 2. Exploratory Data Analysis\n",
    "\n"
   ]
  },
  {
   "cell_type": "code",
   "execution_count": 1,
   "id": "77bb390a",
   "metadata": {
    "execution": {
     "iopub.execute_input": "2023-12-03T21:23:57.595352Z",
     "iopub.status.busy": "2023-12-03T21:23:57.594988Z",
     "iopub.status.idle": "2023-12-03T21:24:18.067246Z",
     "shell.execute_reply": "2023-12-03T21:24:18.066317Z"
    },
    "papermill": {
     "duration": 20.479016,
     "end_time": "2023-12-03T21:24:18.069696",
     "exception": false,
     "start_time": "2023-12-03T21:23:57.590680",
     "status": "completed"
    },
    "tags": []
   },
   "outputs": [
    {
     "name": "stderr",
     "output_type": "stream",
     "text": [
      "/opt/conda/lib/python3.10/site-packages/scipy/__init__.py:146: UserWarning: A NumPy version >=1.16.5 and <1.23.0 is required for this version of SciPy (detected version 1.24.3\n",
      "  warnings.warn(f\"A NumPy version >={np_minversion} and <{np_maxversion}\"\n"
     ]
    }
   ],
   "source": [
    "import pandas as pd\n",
    "import numpy as np\n",
    "from gensim.models import Word2Vec\n",
    "from gensim.models import KeyedVectors\n",
    "from tensorflow.keras.models import Sequential\n",
    "from tensorflow.keras.models import Model\n",
    "from tensorflow.keras.layers import Dense, Input, Embedding, Flatten, Concatenate\n",
    "from tensorflow.keras.preprocessing.sequence import pad_sequences\n",
    "from sklearn.model_selection import train_test_split\n",
    "from sklearn.preprocessing import MinMaxScaler"
   ]
  },
  {
   "cell_type": "code",
   "execution_count": 2,
   "id": "3814dba2",
   "metadata": {
    "execution": {
     "iopub.execute_input": "2023-12-03T21:24:18.078173Z",
     "iopub.status.busy": "2023-12-03T21:24:18.077623Z",
     "iopub.status.idle": "2023-12-03T21:24:18.125663Z",
     "shell.execute_reply": "2023-12-03T21:24:18.124676Z"
    },
    "papermill": {
     "duration": 0.054832,
     "end_time": "2023-12-03T21:24:18.127964",
     "exception": false,
     "start_time": "2023-12-03T21:24:18.073132",
     "status": "completed"
    },
    "tags": []
   },
   "outputs": [],
   "source": [
    "beers_df = pd.read_csv('/kaggle/input/craft-cans/beers.csv')\n",
    "test_df = pd.read_csv('/kaggle/input/craft-cans/beers.csv')\n",
    "beers_df = beers_df.dropna(subset=['ibu'])\n",
    "test_df = test_df.dropna(subset=['ibu'])\n",
    "#print(beers_df.isnull().sum()) #Checking if null values got dropped from the ibu column"
   ]
  },
  {
   "cell_type": "code",
   "execution_count": 3,
   "id": "00f8920e",
   "metadata": {
    "execution": {
     "iopub.execute_input": "2023-12-03T21:24:18.135898Z",
     "iopub.status.busy": "2023-12-03T21:24:18.135537Z",
     "iopub.status.idle": "2023-12-03T21:25:26.499065Z",
     "shell.execute_reply": "2023-12-03T21:25:26.498218Z"
    },
    "papermill": {
     "duration": 68.37013,
     "end_time": "2023-12-03T21:25:26.501490",
     "exception": false,
     "start_time": "2023-12-03T21:24:18.131360",
     "status": "completed"
    },
    "tags": []
   },
   "outputs": [],
   "source": [
    "# Loading pre-trained Word2Vec embeddings\n",
    "word2vec_path = '/kaggle/input/word-embeddings/GoogleNews-vectors-negative300.bin'\n",
    "word2vec_model = KeyedVectors.load_word2vec_format(word2vec_path, binary=True)\n",
    "\n",
    "# Tokenize and pad sequences for the 'style' column\n",
    "max_sequence_length_style = 50\n",
    "text_data_style = pad_sequences(beers_df['style'].apply(lambda x: [word2vec_model.key_to_index[word] for word in str(x).split() if word in word2vec_model.key_to_index]).tolist(), maxlen=max_sequence_length_style)\n",
    "\n",
    "# Tokenize and pad sequences for the 'name' column\n",
    "max_sequence_length_name = 20 \n",
    "text_data_name = pad_sequences(beers_df['name'].apply(lambda x: [word2vec_model.key_to_index[word] for word in str(x).split() if word in word2vec_model.key_to_index]).tolist(), maxlen=max_sequence_length_name)\n",
    "\n",
    "# Normalize numerical features\n",
    "numerical_data = MinMaxScaler().fit_transform(beers_df[['ibu', 'ounces']].values)"
   ]
  },
  {
   "cell_type": "code",
   "execution_count": 4,
   "id": "7696ad86",
   "metadata": {
    "execution": {
     "iopub.execute_input": "2023-12-03T21:25:26.509996Z",
     "iopub.status.busy": "2023-12-03T21:25:26.509692Z",
     "iopub.status.idle": "2023-12-03T21:25:29.537157Z",
     "shell.execute_reply": "2023-12-03T21:25:29.536182Z"
    },
    "papermill": {
     "duration": 3.034086,
     "end_time": "2023-12-03T21:25:29.539468",
     "exception": false,
     "start_time": "2023-12-03T21:25:26.505382",
     "status": "completed"
    },
    "tags": []
   },
   "outputs": [],
   "source": [
    "# Concatenate text and numerical features\n",
    "X_text = np.concatenate([text_data_style, text_data_name], axis=1)\n",
    "X_num = numerical_data\n",
    "y = beers_df['abv'].values\n",
    "\n",
    "#Define input layers\n",
    "input_text = Input(shape=(max_sequence_length_style + max_sequence_length_name,))\n",
    "input_num = Input(shape=(2,)) \n",
    "\n",
    "# Word embedding layer for text data\n",
    "embedding_layer = Embedding(input_dim=len(word2vec_model.key_to_index), output_dim=200, input_length=max_sequence_length_style + max_sequence_length_name)(input_text)\n",
    "flatten_layer = Flatten()(embedding_layer)\n",
    "\n",
    "# Concatenate the flattened text data and numerical data\n",
    "concatenated_layer = Concatenate()([flatten_layer, input_num])\n",
    "\n",
    "# Dense layers for the combined data\n",
    "dense1 = Dense(128, activation='relu')(concatenated_layer)\n",
    "output_layer = Dense(1)(dense1)"
   ]
  },
  {
   "cell_type": "code",
   "execution_count": 5,
   "id": "f90c5227",
   "metadata": {
    "execution": {
     "iopub.execute_input": "2023-12-03T21:25:29.547599Z",
     "iopub.status.busy": "2023-12-03T21:25:29.546890Z",
     "iopub.status.idle": "2023-12-03T21:26:52.199975Z",
     "shell.execute_reply": "2023-12-03T21:26:52.199036Z"
    },
    "papermill": {
     "duration": 82.708006,
     "end_time": "2023-12-03T21:26:52.250853",
     "exception": false,
     "start_time": "2023-12-03T21:25:29.542847",
     "status": "completed"
    },
    "tags": []
   },
   "outputs": [
    {
     "name": "stdout",
     "output_type": "stream",
     "text": [
      "Epoch 1/10\n",
      "57/57 [==============================] - 11s 131ms/step - loss: 0.0343 - val_loss: 3.1411e-04\n",
      "Epoch 2/10\n",
      "57/57 [==============================] - 4s 73ms/step - loss: 1.0045e-04 - val_loss: 9.0030e-05\n",
      "Epoch 3/10\n",
      "57/57 [==============================] - 4s 77ms/step - loss: 5.5716e-05 - val_loss: 1.0852e-04\n",
      "Epoch 4/10\n",
      "57/57 [==============================] - 4s 65ms/step - loss: 3.9419e-05 - val_loss: 7.7363e-05\n",
      "Epoch 5/10\n",
      "57/57 [==============================] - 4s 62ms/step - loss: 2.9207e-05 - val_loss: 7.2619e-05\n",
      "Epoch 6/10\n",
      "57/57 [==============================] - 4s 69ms/step - loss: 3.0790e-05 - val_loss: 7.3562e-05\n",
      "Epoch 7/10\n",
      "57/57 [==============================] - 3s 59ms/step - loss: 3.9091e-05 - val_loss: 1.3725e-04\n",
      "Epoch 8/10\n",
      "57/57 [==============================] - 4s 62ms/step - loss: 5.1450e-05 - val_loss: 7.3696e-05\n",
      "Epoch 9/10\n",
      "57/57 [==============================] - 3s 59ms/step - loss: 3.9673e-05 - val_loss: 3.7349e-04\n",
      "Epoch 10/10\n",
      "57/57 [==============================] - 4s 69ms/step - loss: 6.3673e-05 - val_loss: 7.5370e-05\n"
     ]
    },
    {
     "data": {
      "text/plain": [
       "<keras.src.callbacks.History at 0x783c29c2e110>"
      ]
     },
     "execution_count": 5,
     "metadata": {},
     "output_type": "execute_result"
    }
   ],
   "source": [
    "# Split the data into training and validation sets\n",
    "X_train_text, X_val_text, X_train_num, X_val_num, y_train, y_val = train_test_split(X_text, X_num, y, test_size=0.2, random_state=42)\n",
    "\n",
    "# Define the model\n",
    "model = Model(inputs=[input_text, input_num], outputs=output_layer)\n",
    "\n",
    "# Compile the model\n",
    "model.compile(optimizer='adam', loss='mean_squared_error')\n",
    "\n",
    "# Train the model\n",
    "model.fit([X_train_text, X_train_num], y_train, epochs=10, batch_size = 20, validation_data=([X_val_text, X_val_num], y_val))\n"
   ]
  },
  {
   "cell_type": "code",
   "execution_count": 6,
   "id": "f39465ea",
   "metadata": {
    "execution": {
     "iopub.execute_input": "2023-12-03T21:26:52.351653Z",
     "iopub.status.busy": "2023-12-03T21:26:52.350793Z",
     "iopub.status.idle": "2023-12-03T21:26:52.531194Z",
     "shell.execute_reply": "2023-12-03T21:26:52.530230Z"
    },
    "papermill": {
     "duration": 0.233401,
     "end_time": "2023-12-03T21:26:52.533246",
     "exception": false,
     "start_time": "2023-12-03T21:26:52.299845",
     "status": "completed"
    },
    "tags": []
   },
   "outputs": [
    {
     "name": "stdout",
     "output_type": "stream",
     "text": [
      "44/44 [==============================] - 0s 2ms/step - loss: 3.8976e-05\n"
     ]
    },
    {
     "data": {
      "text/plain": [
       "3.897594069712795e-05"
      ]
     },
     "execution_count": 6,
     "metadata": {},
     "output_type": "execute_result"
    }
   ],
   "source": [
    "# Evaluate the model on a test set\n",
    "X_test_text_style = pad_sequences(test_df['style'].apply(lambda x: [word2vec_model.key_to_index[word] for word in str(x).split() if word in word2vec_model.key_to_index]).tolist(), maxlen=max_sequence_length_style)\n",
    "X_test_text_name = pad_sequences(test_df['name'].apply(lambda x: [word2vec_model.key_to_index[word] for word in str(x).split() if word in word2vec_model.key_to_index]).tolist(), maxlen=max_sequence_length_name)\n",
    "X_test_num = MinMaxScaler().fit_transform(test_df[['ibu', 'ounces']].values)\n",
    "model.evaluate([np.concatenate([X_test_text_style, X_test_text_name], axis=1), X_test_num], test_df['abv'].values)\n"
   ]
  }
 ],
 "metadata": {
  "kaggle": {
   "accelerator": "gpu",
   "dataSources": [
    {
     "datasetId": 673,
     "sourceId": 1282,
     "sourceType": "datasetVersion"
    },
    {
     "datasetId": 4103004,
     "sourceId": 7114815,
     "sourceType": "datasetVersion"
    }
   ],
   "dockerImageVersionId": 30587,
   "isGpuEnabled": true,
   "isInternetEnabled": true,
   "language": "python",
   "sourceType": "notebook"
  },
  "kernelspec": {
   "display_name": "Python 3",
   "language": "python",
   "name": "python3"
  },
  "language_info": {
   "codemirror_mode": {
    "name": "ipython",
    "version": 3
   },
   "file_extension": ".py",
   "mimetype": "text/x-python",
   "name": "python",
   "nbconvert_exporter": "python",
   "pygments_lexer": "ipython3",
   "version": "3.10.12"
  },
  "papermill": {
   "default_parameters": {},
   "duration": 181.574894,
   "end_time": "2023-12-03T21:26:55.819889",
   "environment_variables": {},
   "exception": null,
   "input_path": "__notebook__.ipynb",
   "output_path": "__notebook__.ipynb",
   "parameters": {},
   "start_time": "2023-12-03T21:23:54.244995",
   "version": "2.4.0"
  },
  "vscode": {
   "interpreter": {
    "hash": "bb3398f4b21c7b026dd5874af3f954bf25f1e8ff81e25d82a94abcbbaacf760b"
   }
  }
 },
 "nbformat": 4,
 "nbformat_minor": 5
}
